{
 "cells": [
  {
   "cell_type": "markdown",
   "id": "26ea2ffd",
   "metadata": {},
   "source": [
    "ONNX 형태로 저장하여 cv2를 이용해 추론하려 하였지만 오류를 고칠 수 없어서<br>\n",
    "Yolo 터미널 명령어를 사용하여 모듈화를 시도."
   ]
  },
  {
   "cell_type": "code",
   "execution_count": null,
   "id": "223769a4",
   "metadata": {},
   "outputs": [],
   "source": [
    "import os, sys\n",
    "os.system(\"터미널 명령어\")"
   ]
  }
 ],
 "metadata": {
  "kernelspec": {
   "display_name": "Python 3 (ipykernel)",
   "language": "python",
   "name": "python3"
  },
  "language_info": {
   "codemirror_mode": {
    "name": "ipython",
    "version": 3
   },
   "file_extension": ".py",
   "mimetype": "text/x-python",
   "name": "python",
   "nbconvert_exporter": "python",
   "pygments_lexer": "ipython3",
   "version": "3.8.16"
  }
 },
 "nbformat": 4,
 "nbformat_minor": 5
}
